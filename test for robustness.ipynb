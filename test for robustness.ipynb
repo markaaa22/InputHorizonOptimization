{
 "cells": [
  {
   "cell_type": "code",
   "execution_count": 519,
   "id": "1fe17a8b",
   "metadata": {},
   "outputs": [],
   "source": [
    "import pandas as pd\n",
    "import numpy as np\n",
    "import tensorflow as tf \n",
    "from tensorflow import keras\n",
    "import pickle\n",
    "from sklearn.metrics import mean_squared_error\n",
    "from sklearn.metrics import mean_absolute_error\n",
    "from sklearn.metrics import r2_score\n",
    "from sklearn.metrics import mean_absolute_percentage_error\n",
    "import seaborn as sns \n",
    "import matplotlib.pyplot as plt\n",
    "from numpy.lib.stride_tricks import sliding_window_view\n",
    "import datetime as dt\n",
    "import random\n",
    "import os \n",
    "import h5py\n",
    "from sklearn.preprocessing import StandardScaler\n",
    "from sklearn.preprocessing import MinMaxScaler\n",
    "from keras.models import Model\n",
    "from keras.layers import Input, GRU,LSTM, Dense,Lambda,Conv1D\n",
    "\n",
    "\n",
    "\n",
    "BATCH_SIZE = 128\n",
    "PATIENCE = 20\n",
    "MAX_EPOCH = 150\n",
    "TRAIN_STEPS = 8 * 24\n",
    "PREDICT_STEPS = 24\n",
    "WINDOW_SIZE = TRAIN_STEPS + PREDICT_STEPS \n",
    "\n",
    "LSTM_DIM = 128\n",
    "INPUT_FEATURES = 10\n",
    "OUTPUT_FEATURES = 1\n",
    "filters = 16\n",
    "krnl_sz = 2\n",
    "DECOD_DENSE = 24\n",
    "\n",
    "\n"
   ]
  },
  {
   "cell_type": "code",
   "execution_count": 445,
   "id": "57e5d269",
   "metadata": {},
   "outputs": [],
   "source": [
    "FILE_DIR = 'C:\\\\Users\\\\Zain Ahmed\\\\Desktop\\\\Literature review\\\\Project Folder\\\\Data.xlsx'\n"
   ]
  },
  {
   "cell_type": "markdown",
   "id": "4cb35c9f",
   "metadata": {},
   "source": [
    "# Loading the data from execl file"
   ]
  },
  {
   "cell_type": "code",
   "execution_count": 446,
   "id": "66d8867c",
   "metadata": {},
   "outputs": [],
   "source": [
    "data = pd.read_excel(FILE_DIR)"
   ]
  },
  {
   "cell_type": "markdown",
   "id": "1354109b",
   "metadata": {},
   "source": [
    "# Keeping DATE,Time and Load Columns Only \n",
    "# Also keeping daily hours between 0-23"
   ]
  },
  {
   "cell_type": "code",
   "execution_count": 447,
   "id": "6cdbd03b",
   "metadata": {},
   "outputs": [],
   "source": [
    "data['Time']=data['Time'].astype(int)-1"
   ]
  },
  {
   "cell_type": "code",
   "execution_count": 448,
   "id": "ad82b7a1",
   "metadata": {},
   "outputs": [
    {
     "data": {
      "text/plain": [
       "Index(['dayodweek', 'workday dinary', 'workday', 'Weekday', 'DATE', 'Time',\n",
       "       ' Load(KW)   ', ' KVAR  ', 'KVA', 'P/F', 'pload', 'pkvar', 'pkva',\n",
       "       'ppf', 'Temp (°C)', 'Dew Point Temp (°C)', 'Rel Hum (%)',\n",
       "       'Wind Dir (10s deg)', 'Wind Spd (km/h)', 'Visibility (km)',\n",
       "       'Stn Press (kPa)', 'Wind Chill'],\n",
       "      dtype='object')"
      ]
     },
     "execution_count": 448,
     "metadata": {},
     "output_type": "execute_result"
    }
   ],
   "source": [
    "data.columns"
   ]
  },
  {
   "cell_type": "code",
   "execution_count": 449,
   "id": "69ad8fbc",
   "metadata": {},
   "outputs": [],
   "source": [
    "#data = data.loc[:,('DATE','Time',' Load(KW)   ')]\n",
    "#DROPPING WIND CHILL DUE TO HIGH NANs\n",
    "data = data.loc[:,('DATE','Time',' Load(KW)   ','Temp (°C)','Dew Point Temp (°C)','Rel Hum (%)','Wind Dir (10s deg)','Wind Spd (km/h)','Visibility (km)','Stn Press (kPa)')]"
   ]
  },
  {
   "cell_type": "markdown",
   "id": "764631f9",
   "metadata": {},
   "source": [
    "# Concatenate Date and Time"
   ]
  },
  {
   "cell_type": "code",
   "execution_count": 450,
   "id": "746ef898",
   "metadata": {},
   "outputs": [],
   "source": [
    "data['datetime'] = data['DATE'].astype('str') + '-' + data['Time'].astype('str')"
   ]
  },
  {
   "cell_type": "code",
   "execution_count": 451,
   "id": "00c8869f",
   "metadata": {},
   "outputs": [],
   "source": [
    "data['datetime']=pd.to_datetime(data['datetime'],format='%Y-%m-%d-%H')\n",
    "data['is_weekday'] = (data['datetime'].dt.weekday<=5).astype('int')\n",
    "data['month'] = (data['datetime']).dt.month"
   ]
  },
  {
   "cell_type": "code",
   "execution_count": 452,
   "id": "cf857e85",
   "metadata": {},
   "outputs": [],
   "source": [
    "data = data.set_index('datetime')"
   ]
  },
  {
   "cell_type": "code",
   "execution_count": 453,
   "id": "b4903309",
   "metadata": {},
   "outputs": [],
   "source": [
    "data = data.drop(columns=['DATE','Time'])"
   ]
  },
  {
   "cell_type": "code",
   "execution_count": 454,
   "id": "97fb057a",
   "metadata": {},
   "outputs": [
    {
     "data": {
      "text/plain": [
       "Index([' Load(KW)   ', 'Temp (°C)', 'Dew Point Temp (°C)', 'Rel Hum (%)',\n",
       "       'Wind Dir (10s deg)', 'Wind Spd (km/h)', 'Visibility (km)',\n",
       "       'Stn Press (kPa)', 'is_weekday', 'month'],\n",
       "      dtype='object')"
      ]
     },
     "execution_count": 454,
     "metadata": {},
     "output_type": "execute_result"
    }
   ],
   "source": [
    "data.columns"
   ]
  },
  {
   "cell_type": "markdown",
   "id": "74f8e982",
   "metadata": {},
   "source": [
    "# We will ensure the continuity of the data"
   ]
  },
  {
   "cell_type": "code",
   "execution_count": 455,
   "id": "cb73c2a3",
   "metadata": {},
   "outputs": [
    {
     "name": "stdout",
     "output_type": "stream",
     "text": [
      "The number of breaks in the data are 3 which is 0.0081 percent of the total data\n"
     ]
    }
   ],
   "source": [
    "num_of_bre = (data.asfreq(freq='1H').shape[0]) - (data.shape[0])\n",
    "percen = ((num_of_bre)/data.shape[0])*100\n",
    "print('The number of breaks in the data are {} which is {:0.2} percent of the total data'.format(num_of_bre,percen))"
   ]
  },
  {
   "cell_type": "markdown",
   "id": "5ee6de35",
   "metadata": {},
   "source": [
    "# Make the data continous "
   ]
  },
  {
   "cell_type": "code",
   "execution_count": 456,
   "id": "5b250c55",
   "metadata": {},
   "outputs": [
    {
     "data": {
      "text/html": [
       "<div>\n",
       "<style scoped>\n",
       "    .dataframe tbody tr th:only-of-type {\n",
       "        vertical-align: middle;\n",
       "    }\n",
       "\n",
       "    .dataframe tbody tr th {\n",
       "        vertical-align: top;\n",
       "    }\n",
       "\n",
       "    .dataframe thead th {\n",
       "        text-align: right;\n",
       "    }\n",
       "</style>\n",
       "<table border=\"1\" class=\"dataframe\">\n",
       "  <thead>\n",
       "    <tr style=\"text-align: right;\">\n",
       "      <th></th>\n",
       "      <th>Load(KW)</th>\n",
       "      <th>Temp (°C)</th>\n",
       "      <th>Dew Point Temp (°C)</th>\n",
       "      <th>Rel Hum (%)</th>\n",
       "      <th>Wind Dir (10s deg)</th>\n",
       "      <th>Wind Spd (km/h)</th>\n",
       "      <th>Visibility (km)</th>\n",
       "      <th>Stn Press (kPa)</th>\n",
       "      <th>is_weekday</th>\n",
       "      <th>month</th>\n",
       "    </tr>\n",
       "    <tr>\n",
       "      <th>datetime</th>\n",
       "      <th></th>\n",
       "      <th></th>\n",
       "      <th></th>\n",
       "      <th></th>\n",
       "      <th></th>\n",
       "      <th></th>\n",
       "      <th></th>\n",
       "      <th></th>\n",
       "      <th></th>\n",
       "      <th></th>\n",
       "    </tr>\n",
       "  </thead>\n",
       "  <tbody>\n",
       "    <tr>\n",
       "      <th>2016-01-02 00:00:00</th>\n",
       "      <td>10809</td>\n",
       "      <td>-3.7</td>\n",
       "      <td>-6.5</td>\n",
       "      <td>81.0</td>\n",
       "      <td>29.0</td>\n",
       "      <td>30.0</td>\n",
       "      <td>24.1</td>\n",
       "      <td>98.09</td>\n",
       "      <td>1</td>\n",
       "      <td>1</td>\n",
       "    </tr>\n",
       "    <tr>\n",
       "      <th>2016-01-02 01:00:00</th>\n",
       "      <td>10890</td>\n",
       "      <td>-3.9</td>\n",
       "      <td>-6.9</td>\n",
       "      <td>80.0</td>\n",
       "      <td>28.0</td>\n",
       "      <td>32.0</td>\n",
       "      <td>24.1</td>\n",
       "      <td>98.09</td>\n",
       "      <td>1</td>\n",
       "      <td>1</td>\n",
       "    </tr>\n",
       "    <tr>\n",
       "      <th>2016-01-02 02:00:00</th>\n",
       "      <td>10803</td>\n",
       "      <td>-4.1</td>\n",
       "      <td>-7.2</td>\n",
       "      <td>79.0</td>\n",
       "      <td>29.0</td>\n",
       "      <td>27.0</td>\n",
       "      <td>24.1</td>\n",
       "      <td>98.15</td>\n",
       "      <td>1</td>\n",
       "      <td>1</td>\n",
       "    </tr>\n",
       "    <tr>\n",
       "      <th>2016-01-02 03:00:00</th>\n",
       "      <td>10839</td>\n",
       "      <td>-4.0</td>\n",
       "      <td>-7.1</td>\n",
       "      <td>79.0</td>\n",
       "      <td>28.0</td>\n",
       "      <td>34.0</td>\n",
       "      <td>24.1</td>\n",
       "      <td>98.13</td>\n",
       "      <td>1</td>\n",
       "      <td>1</td>\n",
       "    </tr>\n",
       "    <tr>\n",
       "      <th>2016-01-02 04:00:00</th>\n",
       "      <td>10812</td>\n",
       "      <td>-4.3</td>\n",
       "      <td>-7.3</td>\n",
       "      <td>80.0</td>\n",
       "      <td>29.0</td>\n",
       "      <td>25.0</td>\n",
       "      <td>24.1</td>\n",
       "      <td>98.16</td>\n",
       "      <td>1</td>\n",
       "      <td>1</td>\n",
       "    </tr>\n",
       "  </tbody>\n",
       "</table>\n",
       "</div>"
      ],
      "text/plain": [
       "                      Load(KW)     Temp (°C)  Dew Point Temp (°C)  \\\n",
       "datetime                                                            \n",
       "2016-01-02 00:00:00         10809       -3.7                 -6.5   \n",
       "2016-01-02 01:00:00         10890       -3.9                 -6.9   \n",
       "2016-01-02 02:00:00         10803       -4.1                 -7.2   \n",
       "2016-01-02 03:00:00         10839       -4.0                 -7.1   \n",
       "2016-01-02 04:00:00         10812       -4.3                 -7.3   \n",
       "\n",
       "                     Rel Hum (%)  Wind Dir (10s deg)  Wind Spd (km/h)  \\\n",
       "datetime                                                                \n",
       "2016-01-02 00:00:00         81.0                29.0             30.0   \n",
       "2016-01-02 01:00:00         80.0                28.0             32.0   \n",
       "2016-01-02 02:00:00         79.0                29.0             27.0   \n",
       "2016-01-02 03:00:00         79.0                28.0             34.0   \n",
       "2016-01-02 04:00:00         80.0                29.0             25.0   \n",
       "\n",
       "                     Visibility (km)  Stn Press (kPa)  is_weekday  month  \n",
       "datetime                                                                  \n",
       "2016-01-02 00:00:00             24.1            98.09           1      1  \n",
       "2016-01-02 01:00:00             24.1            98.09           1      1  \n",
       "2016-01-02 02:00:00             24.1            98.15           1      1  \n",
       "2016-01-02 03:00:00             24.1            98.13           1      1  \n",
       "2016-01-02 04:00:00             24.1            98.16           1      1  "
      ]
     },
     "execution_count": 456,
     "metadata": {},
     "output_type": "execute_result"
    }
   ],
   "source": [
    "data.head()"
   ]
  },
  {
   "cell_type": "code",
   "execution_count": 457,
   "id": "8667cf5e",
   "metadata": {},
   "outputs": [],
   "source": [
    "data = data.asfreq(freq='1H')"
   ]
  },
  {
   "cell_type": "code",
   "execution_count": 458,
   "id": "53f60a42",
   "metadata": {},
   "outputs": [
    {
     "data": {
      "text/plain": [
       "<AxesSubplot:xlabel='datetime'>"
      ]
     },
     "execution_count": 458,
     "metadata": {},
     "output_type": "execute_result"
    },
    {
     "data": {
      "image/png": "[encoded data removed]",
      "text/plain": [
       "<Figure size 432x288 with 1 Axes>"
      ]
     },
     "metadata": {
      "needs_background": "light"
     },
     "output_type": "display_data"
    }
   ],
   "source": [
    "data.plot(y=' Load(KW)   ')"
   ]
  },
  {
   "cell_type": "code",
   "execution_count": 459,
   "id": "b8e79530",
   "metadata": {},
   "outputs": [
    {
     "data": {
      "text/plain": [
       "(37224, 10)"
      ]
     },
     "execution_count": 459,
     "metadata": {},
     "output_type": "execute_result"
    }
   ],
   "source": [
    "data.shape"
   ]
  },
  {
   "cell_type": "markdown",
   "id": "5165aaf7",
   "metadata": {},
   "source": [
    "# We will divide our data in train, validation and test sets "
   ]
  },
  {
   "cell_type": "code",
   "execution_count": 460,
   "id": "71ec559c",
   "metadata": {},
   "outputs": [],
   "source": [
    "tr_id = int((data.shape[0]*0.75)/24)*24\n",
    "val_id = int((data.shape[0]*0.90)/24)*24\n",
    "tra_data = data.iloc[:tr_id,:]\n",
    "val_data = data.iloc[tr_id:val_id,:]\n",
    "tes_data = data.iloc[val_id:,:]"
   ]
  },
  {
   "cell_type": "code",
   "execution_count": 461,
   "id": "4be6d4bc",
   "metadata": {},
   "outputs": [
    {
     "data": {
      "text/plain": [
       "27912"
      ]
     },
     "execution_count": 461,
     "metadata": {},
     "output_type": "execute_result"
    }
   ],
   "source": [
    "tr_id"
   ]
  },
  {
   "cell_type": "markdown",
   "id": "9aba52d7",
   "metadata": {},
   "source": [
    "# Now we will write the proprocessing function"
   ]
  },
  {
   "cell_type": "code",
   "execution_count": 462,
   "id": "25a06c94",
   "metadata": {},
   "outputs": [],
   "source": [
    "def pre_process(sample):\n",
    "    '''\n",
    "    Takes a dataframe and \n",
    "            \n",
    "    - replaces NA values by forward filling\n",
    "    \n",
    "    '''\n",
    "    ## Use the below line of code to sample data based on hours \n",
    "    ##sample = sample[(sample.index.dayofweek<5) & ((of_da_fi.index.hour>4) & (of_da_fi.index.hour<19))]\n",
    "    \n",
    "    #using forward filling method to fill the missing data \n",
    "        \n",
    "    sample = sample.fillna(method='ffill')\n",
    "    \n",
    "    ## This line of code checks for NA values \n",
    "    \n",
    "    check_na = int(sample.isnull().sum().sum())\n",
    "    \n",
    "    print('There are {} NA values in the dataframe'.format(check_na))\n",
    "    \n",
    "    #plt.figure(figsize=(3,3))\n",
    "    \n",
    "    #sns.violinplot(data=sample)\n",
    "    \n",
    "    #plt.xticks(rotation=90)\n",
    "        \n",
    "    return sample"
   ]
  },
  {
   "cell_type": "code",
   "execution_count": 463,
   "id": "e5ac0169",
   "metadata": {},
   "outputs": [
    {
     "name": "stdout",
     "output_type": "stream",
     "text": [
      "There are 0 NA values in the dataframe\n"
     ]
    }
   ],
   "source": [
    "train_data = pre_process(tra_data)\n"
   ]
  },
  {
   "cell_type": "code",
   "execution_count": 464,
   "id": "234a624c",
   "metadata": {},
   "outputs": [
    {
     "name": "stdout",
     "output_type": "stream",
     "text": [
      "There are 0 NA values in the dataframe\n"
     ]
    }
   ],
   "source": [
    "vali_data = pre_process(val_data)\n"
   ]
  },
  {
   "cell_type": "code",
   "execution_count": 465,
   "id": "2fbeb1a2",
   "metadata": {},
   "outputs": [
    {
     "name": "stdout",
     "output_type": "stream",
     "text": [
      "There are 0 NA values in the dataframe\n"
     ]
    }
   ],
   "source": [
    "test_data = pre_process(tes_data)"
   ]
  },
  {
   "cell_type": "code",
   "execution_count": 466,
   "id": "2c7fb4f6",
   "metadata": {},
   "outputs": [
    {
     "data": {
      "text/plain": [
       " Load(KW)              0\n",
       "Temp (°C)              0\n",
       "Dew Point Temp (°C)    0\n",
       "Rel Hum (%)            0\n",
       "Wind Dir (10s deg)     0\n",
       "Wind Spd (km/h)        0\n",
       "Visibility (km)        0\n",
       "Stn Press (kPa)        0\n",
       "is_weekday             0\n",
       "month                  0\n",
       "dtype: int64"
      ]
     },
     "execution_count": 466,
     "metadata": {},
     "output_type": "execute_result"
    }
   ],
   "source": [
    "tes_data.fillna(method='ffill').isnull().sum()"
   ]
  },
  {
   "cell_type": "code",
   "execution_count": 467,
   "id": "7eb124d9",
   "metadata": {},
   "outputs": [
    {
     "data": {
      "text/plain": [
       "(3744, 10)"
      ]
     },
     "execution_count": 467,
     "metadata": {},
     "output_type": "execute_result"
    }
   ],
   "source": [
    "tes_data.shape"
   ]
  },
  {
   "cell_type": "markdown",
   "id": "0a53925d",
   "metadata": {},
   "source": [
    "# Rolling window function for 1D data"
   ]
  },
  {
   "cell_type": "code",
   "execution_count": 498,
   "id": "bfa201b2",
   "metadata": {},
   "outputs": [],
   "source": [
    "def rolling_window(array_data,input_size,output_size,offset,test=False):\n",
    "    '''\n",
    "    The function takes a series array_data of size (size,) \n",
    "\n",
    "    and generates\n",
    "    \n",
    "    a array of size (input_size,((array_size-(input_size+output_size)/stride)+1)) as inputs \n",
    "    \n",
    "    and array of size (array_size-(input_size+output_size)/stride)+1)as output \n",
    "    \n",
    "    '''\n",
    "        \n",
    "    # Normalizing the dataset\n",
    "    if test is True:\n",
    "          \n",
    "        array_data.iloc[:,:-2] = np.random.normal(loc=0,scale=0.5,size=array_data.iloc[:,:-2].shape)+array_data.iloc[:,:-2]\n",
    "        \n",
    "    scaler = StandardScaler()\n",
    "    \n",
    "    scaler = scaler.fit(array_data)\n",
    "    \n",
    "    array_data = scaler.transform(array_data)\n",
    "    \n",
    "#     lab_data = array_data[:,0]\n",
    "    \n",
    "#     for i in range(input_size,len(array_data)-output_size+1,offset):\n",
    "            \n",
    "#             data.append(array_data[i-input_size:i,0:array_data.shape[1]])\n",
    "    \n",
    "#             labels.append(lab_data[i:i+output_size])\n",
    "\n",
    "        \n",
    "    data_idx = sliding_window_view(np.arange(array_data.shape[0]).reshape(-1),window_shape=input_size)[::offset][:-1]\n",
    "    \n",
    "    data = array_data[data_idx]\n",
    "\n",
    "    labels = sliding_window_view(array_data[input_size:,0].reshape(-1),window_shape=output_size)[::offset]\n",
    "    \n",
    "    input_decoder = np.zeros((data.shape[0],1,LSTM_DIM+OUTPUT_FEATURES))\n",
    "\n",
    "    \n",
    "    assert data.shape[0] == labels.shape[0],\"Training rows and labels are unequal\"    \n",
    "    \n",
    "#    if output_size == offset:\n",
    "        \n",
    "#        ra_in = random.randint(0,data.shape[0]-2) \n",
    "        \n",
    "#        a = data[ra_in+1,-offset:]\n",
    "        \n",
    "#        b = labels[ra_in]\n",
    "        \n",
    "#        np.alltrue(a == b)\n",
    "    \n",
    "#    data = np.expand_dims(data,axis=2)\n",
    "    \n",
    "#    labels = np.expand_dims(labels,axis=2)\n",
    "    \n",
    "#    data = np.array(data)\n",
    "    \n",
    "#    labels = np.array(labels)\n",
    "        \n",
    "    return data,labels,scaler,array_data,input_decoder\n",
    "tes_data_sli,tes_lab,test_scaler,tes_stan,tes_decod = rolling_window(test_data,input_size=TRAIN_STEPS,output_size=24,offset=24,test=True)\n"
   ]
  },
  {
   "cell_type": "code",
   "execution_count": null,
   "id": "501e63f3",
   "metadata": {},
   "outputs": [],
   "source": []
  },
  {
   "cell_type": "markdown",
   "id": "92814007",
   "metadata": {},
   "source": [
    "# We will use the rolling window of size 168 and output window of size 24"
   ]
  },
  {
   "cell_type": "code",
   "execution_count": 499,
   "id": "7d0388c9",
   "metadata": {},
   "outputs": [],
   "source": [
    "tra_data_sli,tra_lab,tra_sca,tra_stan,tra_decod = rolling_window(train_data,input_size=TRAIN_STEPS,output_size=24,offset=24)\n",
    "val_data_sli,val_lab,val_sca,val_stan,val_decod = rolling_window(vali_data,input_size=TRAIN_STEPS,output_size=24,offset=24)\n"
   ]
  },
  {
   "cell_type": "code",
   "execution_count": 500,
   "id": "cd6a2cb4",
   "metadata": {},
   "outputs": [
    {
     "data": {
      "text/plain": [
       "(1155, 192, 10)"
      ]
     },
     "execution_count": 500,
     "metadata": {},
     "output_type": "execute_result"
    }
   ],
   "source": [
    "tra_data_sli.shape"
   ]
  },
  {
   "cell_type": "code",
   "execution_count": 501,
   "id": "28e4d225",
   "metadata": {},
   "outputs": [
    {
     "data": {
      "text/plain": [
       "(1155, 24)"
      ]
     },
     "execution_count": 501,
     "metadata": {},
     "output_type": "execute_result"
    }
   ],
   "source": [
    "tra_lab.shape"
   ]
  },
  {
   "cell_type": "code",
   "execution_count": null,
   "id": "744e66d0",
   "metadata": {},
   "outputs": [],
   "source": [
    "\n"
   ]
  },
  {
   "cell_type": "markdown",
   "id": "ba03cfa6",
   "metadata": {},
   "source": [
    "# We will now focus on Seq2Seq Implementation"
   ]
  },
  {
   "cell_type": "code",
   "execution_count": 502,
   "id": "a0832752",
   "metadata": {},
   "outputs": [
    {
     "name": "stdout",
     "output_type": "stream",
     "text": [
      "Number of training samples are 1155\n",
      "Number of validation samples are 224\n"
     ]
    }
   ],
   "source": [
    "print(\"Number of training samples are {}\".format(tra_data_sli.shape[0]))\n",
    "print(\"Number of validation samples are {}\".format(val_data_sli.shape[0]))\n",
    "#print(\"Number of test samples are {}\".format(tes_data_sli.shape[0]))"
   ]
  },
  {
   "cell_type": "code",
   "execution_count": 503,
   "id": "3e776a50",
   "metadata": {},
   "outputs": [
    {
     "data": {
      "text/plain": [
       "(1155, 24)"
      ]
     },
     "execution_count": 503,
     "metadata": {},
     "output_type": "execute_result"
    }
   ],
   "source": [
    "tra_lab.shape"
   ]
  },
  {
   "cell_type": "code",
   "execution_count": 504,
   "id": "9454561c",
   "metadata": {},
   "outputs": [
    {
     "data": {
      "text/plain": [
       "(1155, 192, 10)"
      ]
     },
     "execution_count": 504,
     "metadata": {},
     "output_type": "execute_result"
    }
   ],
   "source": [
    "tra_data_sli.shape"
   ]
  },
  {
   "cell_type": "code",
   "execution_count": 505,
   "id": "f1dca157",
   "metadata": {},
   "outputs": [],
   "source": [
    "class BahdanauAttention(tf.keras.layers.Layer):\n",
    "    def __init__(self, units, verbose=0):\n",
    "        super(BahdanauAttention, self).__init__()\n",
    "        self.W1 = tf.keras.layers.Dense(units)\n",
    "        self.W2 = tf.keras.layers.Dense(units)\n",
    "        self.V = tf.keras.layers.Dense(1)\n",
    "        self.verbose= verbose\n",
    "\n",
    "    def call(self, query, values):\n",
    "        if self.verbose:\n",
    "            print('\\n******* Bahdanau Attention STARTS******')\n",
    "            print('query (decoder hidden state): (batch_size, hidden size) ', query.shape)\n",
    "            print('values (encoder all hidden state): (batch_size, max_len, hidden size) ', values.shape)\n",
    "\n",
    "        # query hidden state shape == (batch_size, hidden size)\n",
    "        # query_with_time_axis shape == (batch_size, 1, hidden size)\n",
    "        # values shape == (batch_size, max_len, hidden size)\n",
    "        # we are doing this to broadcast addition along the time axis to calculate the score\n",
    "        query_with_time_axis = tf.expand_dims(query, 1)\n",
    "\n",
    "        if self.verbose:\n",
    "            print('query_with_time_axis:(batch_size, 1, hidden size) ', query_with_time_axis.shape)\n",
    "\n",
    "        # score shape == (batch_size, max_length, 1)\n",
    "        # we get 1 at the last axis because we are applying score to self.V\n",
    "        # the shape of the tensor before applying self.V is (batch_size, max_length, units)\n",
    "        score = self.V(tf.nn.tanh(\n",
    "            self.W1(query_with_time_axis) + self.W2(values)))\n",
    "        if self.verbose:\n",
    "            print('score: (batch_size, max_length, 1) ',score.shape)\n",
    "        # attention_weights shape == (batch_size, max_length, 1)\n",
    "        attention_weights = tf.nn.softmax(score, axis=1)\n",
    "        if self.verbose:\n",
    "            print('attention_weights: (batch_size, max_length, 1) ',attention_weights.shape)\n",
    "        # context_vector shape after sum == (batch_size, hidden_size)\n",
    "        context_vector = attention_weights * values\n",
    "        if self.verbose:\n",
    "            print('context_vector before reduce_sum: (batch_size, max_length, hidden_size) ',context_vector.shape)\n",
    "        context_vector = tf.reduce_sum(context_vector, axis=1)\n",
    "        if self.verbose:\n",
    "            print('context_vector after reduce_sum: (batch_size, hidden_size) ',context_vector.shape)\n",
    "            print('\\n******* Bahdanau Attention ENDS******')\n",
    "        \n",
    "        return context_vector, attention_weights"
   ]
  },
  {
   "cell_type": "code",
   "execution_count": 506,
   "id": "c95d33bd",
   "metadata": {},
   "outputs": [],
   "source": [
    "\n",
    "\n",
    "# input_timesteps = 168\n",
    "# features = 8\n",
    "# output_timesteps = 24\n",
    "# lstm_dim = 256\n",
    "\n",
    "# def encoder_decoder_model(batch_size):\n",
    "\n",
    "#     encoder_inputs = Input(shape=(input_timesteps,features),name='encoder_inputs')\n",
    "#     encoder_lstm = LSTM(lstm_dim,return_state=True,name='encoder_lstm')\n",
    "#     encoder_outputs, state_h, state_c = encoder_lstm(encoder_inputs)\n",
    "\n",
    "#     ###Input data is used by the encoder lstm and context vector is generated\n",
    "    \n",
    "#     states = [state_h,state_c]\n",
    "\n",
    "#     ###Decoder network defination\n",
    "#     decoder_inputs = Input(shape=(1, 1))\n",
    "#     decoder_lstm = LSTM(lstm_dim,return_state=True,return_sequences=True,name='decoder_lstm')\n",
    "#     decoder_dense = Dense(1,name='decoder_output')\n",
    "    \n",
    "#     all_outputs = []\n",
    "    \n",
    "#     attention= BahdanauAttention(lstm_dim, verbose=verbose)\n",
    "\n",
    "#     inputs = decoder_inputs\n",
    "    \n",
    "#     for _ in range(output_timesteps):\n",
    "        \n",
    "#         context_vector, attention_weights=attention(decoder_outputs, encoder_outputs)\n",
    "        \n",
    "#         lstm_outputs , state_h , state_c = decoder_lstm(inputs,initial_state=states)\n",
    "        \n",
    "#         outputs = decoder_dense(lstm_outputs)\n",
    "        \n",
    "#         states = [state_h,state_c]\n",
    "        \n",
    "#         all_outputs.append(outputs)\n",
    "        \n",
    "#         inputs = outputs\n",
    "        \n",
    "#     decoder_outputs = all_outputs\n",
    "    \n",
    "#     model = Model([encoder_inputs,decoder_inputs],decoder_outputs,name='encoder_decoder_model')\n",
    "    \n",
    "#     model.compile(optimizer='adam',loss=tf.keras.losses.Huber(),metrics=[\"mean_squared_error\"])\n",
    "    \n",
    "#     return model\n",
    "    "
   ]
  },
  {
   "cell_type": "code",
   "execution_count": 507,
   "id": "8e188d6e",
   "metadata": {},
   "outputs": [
    {
     "name": "stdout",
     "output_type": "stream",
     "text": [
      "****Model Hyperparameters****\n",
      "BATCH_SIZE :  128\n",
      "LSTM_DIM :  128\n",
      "INPUT_FEATURES :  10\n",
      "OUTPUT_FEATURES :  1\n",
      "TRAIN_STEPS :  192\n",
      "PREDICT_STEPS :  24\n"
     ]
    }
   ],
   "source": [
    "print('****Model Hyperparameters****')\n",
    "\n",
    "print('BATCH_SIZE : ',BATCH_SIZE)\n",
    "\n",
    "print('LSTM_DIM : ',LSTM_DIM)\n",
    "\n",
    "print('INPUT_FEATURES : ',INPUT_FEATURES)\n",
    "\n",
    "print('OUTPUT_FEATURES : ',OUTPUT_FEATURES)\n",
    "\n",
    "print('TRAIN_STEPS : ',TRAIN_STEPS)\n",
    "\n",
    "print('PREDICT_STEPS : ',PREDICT_STEPS)\n"
   ]
  },
  {
   "cell_type": "code",
   "execution_count": 508,
   "id": "8e6d5f55",
   "metadata": {},
   "outputs": [],
   "source": [
    "def create_enc_dec_att_model(BATCH_SIZE):\n",
    "    ## Enoder Model\n",
    "\n",
    "    encoder_input = Input(shape = (TRAIN_STEPS,INPUT_FEATURES),name='encoder_input')\n",
    "    \n",
    "    conv_layer = Conv1D(filters=filters,kernel_size=krnl_sz)\n",
    "    \n",
    "    pool_layer = tf.keras.layers.MaxPool1D(2)\n",
    "#    conv_flat_layer = tf.keras.layers.TimeDistributed(tf.keras.layers.Flatten())\n",
    "\n",
    "    encoder_lstm = GRU(LSTM_DIM , return_sequences=True,return_state=True,name='encoder_lstm')\n",
    "    \n",
    "    one_d_conv = conv_layer(encoder_input)\n",
    "    \n",
    "    pool = pool_layer(one_d_conv)\n",
    "#    conv_flat = conv_flat_layer(pool)\n",
    "\n",
    "    encoder_output , en_h  = encoder_lstm(pool)\n",
    "\n",
    "    encoder_states = [en_h]\n",
    "\n",
    "    attention_layer = BahdanauAttention(LSTM_DIM)\n",
    "\n",
    "    ## Decoder_Model\n",
    "\n",
    "    decoder_input = Input(shape = (1 , OUTPUT_FEATURES+LSTM_DIM) , name='decoder_input')\n",
    "    \n",
    "    decoder_lstm_2 = GRU(LSTM_DIM, return_sequences=True, return_state = True, name = 'decoder_lstm_2')\n",
    "\n",
    "    decoder_dense_1 = Dense(DECOD_DENSE,name='decoder_dense')\n",
    "    \n",
    "    decoder_output_layer = Dense(1,name='decoder_output')\n",
    "\n",
    "    all_outputs = []\n",
    "\n",
    "    ## Decoder input starting vector \n",
    "\n",
    "    inputs = np.zeros((BATCH_SIZE,1,OUTPUT_FEATURES),dtype=np.float32)\n",
    "\n",
    "    ##for attention\n",
    "\n",
    "    decoder_output = en_h\n",
    "\n",
    "    states = encoder_states\n",
    "    \n",
    "    for _ in range(PREDICT_STEPS):\n",
    "\n",
    "        context_vector , attention_weights = attention_layer(decoder_output,encoder_output)\n",
    "\n",
    "    #    print(\"Context Vector Shape : \",context_vector.shape)\n",
    "\n",
    "    #    print(\"Attention Weights : \",attention_weights.shape)\n",
    "\n",
    "    #    print(\"Decoder Output Before Concat : \",decoder_output.shape)\n",
    "\n",
    "        context_vector = tf.expand_dims(context_vector,1)\n",
    "\n",
    "    #    context_vector = tf.cast(context_vector,tf.float64)\n",
    "\n",
    "    #    print(\"Reshaped Context Vector : \",context_vector.shape)\n",
    "\n",
    "    #    print(\"Input Shape : \",inputs.shape)\n",
    "\n",
    "        inputs = tf.concat([context_vector,inputs],axis=-1)\n",
    "\n",
    "    #    print(\"New Input Shape: \",inputs.shape)\n",
    "\n",
    "#        x = decoder_lstm_1(decoder_input,initial_state=states)\n",
    "        \n",
    "        decoder_outputs, state_h  = decoder_lstm_2(decoder_input,initial_state=states)\n",
    "\n",
    "        output = decoder_output_layer(decoder_outputs)\n",
    "        \n",
    "    #    print(\"Decoder Output : \",output.shape)\n",
    "\n",
    "    #    output = tf.expand_dims(output,1)\n",
    "\n",
    "        all_outputs.append(output)\n",
    "\n",
    "        inputs = output\n",
    "\n",
    "        states = [state_h]\n",
    "        \n",
    "    all_out = Lambda(lambda x: tf.keras.backend.concatenate(x, axis=1))(all_outputs)\n",
    "    \n",
    "    ##Flatten layer\n",
    "    \n",
    "    flat_layer = tf.keras.layers.Flatten()\n",
    "    \n",
    "    all_out = flat_layer(all_out)\n",
    "        \n",
    "    ###Defining Fullyy connected layer \n",
    "    \n",
    "    fc_layer = Dense(128,name='FC_LAYER'\n",
    "#                     ,kernel_regularizer=tf.keras.regularizers.L2(0.01)\n",
    "                    )\n",
    "    \n",
    "    output_layer = Dense(24,name='output_layer')\n",
    "\n",
    "    fc_layer_1 = fc_layer(all_out)\n",
    "    \n",
    "    final_output = output_layer(fc_layer_1)\n",
    "    \n",
    "    model = Model([encoder_input,decoder_input], final_output, name='model_encoder_decoder')\n",
    "\n",
    "    model.compile(optimizer='adam', loss=tf.keras.losses.Huber(), metrics=['mean_squared_error'])\n",
    "\n",
    "    return model\n",
    "\n",
    "\n"
   ]
  },
  {
   "cell_type": "code",
   "execution_count": 509,
   "id": "d9a70315",
   "metadata": {},
   "outputs": [],
   "source": [
    "My_Model = create_enc_dec_att_model(BATCH_SIZE)"
   ]
  },
  {
   "cell_type": "code",
   "execution_count": 510,
   "id": "0bff45d2",
   "metadata": {},
   "outputs": [
    {
     "name": "stdout",
     "output_type": "stream",
     "text": [
      "Model: \"model_encoder_decoder\"\n",
      "__________________________________________________________________________________________________\n",
      " Layer (type)                   Output Shape         Param #     Connected to                     \n",
      "==================================================================================================\n",
      " encoder_input (InputLayer)     [(None, 192, 10)]    0           []                               \n",
      "                                                                                                  \n",
      " conv1d_9 (Conv1D)              (None, 191, 16)      336         ['encoder_input[0][0]']          \n",
      "                                                                                                  \n",
      " max_pooling1d_9 (MaxPooling1D)  (None, 95, 16)      0           ['conv1d_9[0][0]']               \n",
      "                                                                                                  \n",
      " decoder_input (InputLayer)     [(None, 1, 129)]     0           []                               \n",
      "                                                                                                  \n",
      " encoder_lstm (GRU)             [(None, 95, 128),    56064       ['max_pooling1d_9[0][0]']        \n",
      "                                 (None, 128)]                                                     \n",
      "                                                                                                  \n",
      " decoder_lstm_2 (GRU)           [(None, 1, 128),     99456       ['decoder_input[0][0]',          \n",
      "                                 (None, 128)]                     'encoder_lstm[0][1]',           \n",
      "                                                                  'decoder_input[0][0]',          \n",
      "                                                                  'decoder_lstm_2[0][1]',         \n",
      "                                                                  'decoder_input[0][0]',          \n",
      "                                                                  'decoder_lstm_2[1][1]',         \n",
      "                                                                  'decoder_input[0][0]',          \n",
      "                                                                  'decoder_lstm_2[2][1]',         \n",
      "                                                                  'decoder_input[0][0]',          \n",
      "                                                                  'decoder_lstm_2[3][1]',         \n",
      "                                                                  'decoder_input[0][0]',          \n",
      "                                                                  'decoder_lstm_2[4][1]',         \n",
      "                                                                  'decoder_input[0][0]',          \n",
      "                                                                  'decoder_lstm_2[5][1]',         \n",
      "                                                                  'decoder_input[0][0]',          \n",
      "                                                                  'decoder_lstm_2[6][1]',         \n",
      "                                                                  'decoder_input[0][0]',          \n",
      "                                                                  'decoder_lstm_2[7][1]',         \n",
      "                                                                  'decoder_input[0][0]',          \n",
      "                                                                  'decoder_lstm_2[8][1]',         \n",
      "                                                                  'decoder_input[0][0]',          \n",
      "                                                                  'decoder_lstm_2[9][1]',         \n",
      "                                                                  'decoder_input[0][0]',          \n",
      "                                                                  'decoder_lstm_2[10][1]',        \n",
      "                                                                  'decoder_input[0][0]',          \n",
      "                                                                  'decoder_lstm_2[11][1]',        \n",
      "                                                                  'decoder_input[0][0]',          \n",
      "                                                                  'decoder_lstm_2[12][1]',        \n",
      "                                                                  'decoder_input[0][0]',          \n",
      "                                                                  'decoder_lstm_2[13][1]',        \n",
      "                                                                  'decoder_input[0][0]',          \n",
      "                                                                  'decoder_lstm_2[14][1]',        \n",
      "                                                                  'decoder_input[0][0]',          \n",
      "                                                                  'decoder_lstm_2[15][1]',        \n",
      "                                                                  'decoder_input[0][0]',          \n",
      "                                                                  'decoder_lstm_2[16][1]',        \n",
      "                                                                  'decoder_input[0][0]',          \n",
      "                                                                  'decoder_lstm_2[17][1]',        \n",
      "                                                                  'decoder_input[0][0]',          \n",
      "                                                                  'decoder_lstm_2[18][1]',        \n",
      "                                                                  'decoder_input[0][0]',          \n",
      "                                                                  'decoder_lstm_2[19][1]',        \n",
      "                                                                  'decoder_input[0][0]',          \n",
      "                                                                  'decoder_lstm_2[20][1]',        \n",
      "                                                                  'decoder_input[0][0]',          \n",
      "                                                                  'decoder_lstm_2[21][1]',        \n",
      "                                                                  'decoder_input[0][0]',          \n",
      "                                                                  'decoder_lstm_2[22][1]']        \n",
      "                                                                                                  \n",
      " decoder_output (Dense)         (None, 1, 1)         129         ['decoder_lstm_2[0][0]',         \n",
      "                                                                  'decoder_lstm_2[1][0]',         \n",
      "                                                                  'decoder_lstm_2[2][0]',         \n",
      "                                                                  'decoder_lstm_2[3][0]',         \n",
      "                                                                  'decoder_lstm_2[4][0]',         \n",
      "                                                                  'decoder_lstm_2[5][0]',         \n",
      "                                                                  'decoder_lstm_2[6][0]',         \n",
      "                                                                  'decoder_lstm_2[7][0]',         \n",
      "                                                                  'decoder_lstm_2[8][0]',         \n",
      "                                                                  'decoder_lstm_2[9][0]',         \n",
      "                                                                  'decoder_lstm_2[10][0]',        \n",
      "                                                                  'decoder_lstm_2[11][0]',        \n",
      "                                                                  'decoder_lstm_2[12][0]',        \n",
      "                                                                  'decoder_lstm_2[13][0]',        \n",
      "                                                                  'decoder_lstm_2[14][0]',        \n",
      "                                                                  'decoder_lstm_2[15][0]',        \n",
      "                                                                  'decoder_lstm_2[16][0]',        \n",
      "                                                                  'decoder_lstm_2[17][0]',        \n",
      "                                                                  'decoder_lstm_2[18][0]',        \n",
      "                                                                  'decoder_lstm_2[19][0]',        \n"
     ]
    },
    {
     "name": "stdout",
     "output_type": "stream",
     "text": [
      "                                                                  'decoder_lstm_2[20][0]',        \n",
      "                                                                  'decoder_lstm_2[21][0]',        \n",
      "                                                                  'decoder_lstm_2[22][0]',        \n",
      "                                                                  'decoder_lstm_2[23][0]']        \n",
      "                                                                                                  \n",
      " lambda_9 (Lambda)              (None, 24, 1)        0           ['decoder_output[0][0]',         \n",
      "                                                                  'decoder_output[1][0]',         \n",
      "                                                                  'decoder_output[2][0]',         \n",
      "                                                                  'decoder_output[3][0]',         \n",
      "                                                                  'decoder_output[4][0]',         \n",
      "                                                                  'decoder_output[5][0]',         \n",
      "                                                                  'decoder_output[6][0]',         \n",
      "                                                                  'decoder_output[7][0]',         \n",
      "                                                                  'decoder_output[8][0]',         \n",
      "                                                                  'decoder_output[9][0]',         \n",
      "                                                                  'decoder_output[10][0]',        \n",
      "                                                                  'decoder_output[11][0]',        \n",
      "                                                                  'decoder_output[12][0]',        \n",
      "                                                                  'decoder_output[13][0]',        \n",
      "                                                                  'decoder_output[14][0]',        \n",
      "                                                                  'decoder_output[15][0]',        \n",
      "                                                                  'decoder_output[16][0]',        \n",
      "                                                                  'decoder_output[17][0]',        \n",
      "                                                                  'decoder_output[18][0]',        \n",
      "                                                                  'decoder_output[19][0]',        \n",
      "                                                                  'decoder_output[20][0]',        \n",
      "                                                                  'decoder_output[21][0]',        \n",
      "                                                                  'decoder_output[22][0]',        \n",
      "                                                                  'decoder_output[23][0]']        \n",
      "                                                                                                  \n",
      " flatten_9 (Flatten)            (None, 24)           0           ['lambda_9[0][0]']               \n",
      "                                                                                                  \n",
      " FC_LAYER (Dense)               (None, 128)          3200        ['flatten_9[0][0]']              \n",
      "                                                                                                  \n",
      " output_layer (Dense)           (None, 24)           3096        ['FC_LAYER[0][0]']               \n",
      "                                                                                                  \n",
      "==================================================================================================\n",
      "Total params: 162,281\n",
      "Trainable params: 162,281\n",
      "Non-trainable params: 0\n",
      "__________________________________________________________________________________________________\n"
     ]
    }
   ],
   "source": [
    "My_Model.summary()"
   ]
  },
  {
   "cell_type": "code",
   "execution_count": 511,
   "id": "7b295552",
   "metadata": {},
   "outputs": [],
   "source": [
    "lr_schedule = tf.keras.optimizers.schedules.ExponentialDecay(\n",
    "    0.1,\n",
    "    decay_steps=1000,\n",
    "    decay_rate=0.5)\n",
    "\n",
    "model_chk = tf.keras.callbacks.ModelCheckpoint(\n",
    "            'Final Model with attention.h5',monitor=\"val_loss\",mode='min',verbose=1,save_best_only=True\n",
    ")\n",
    "\n",
    "#history = My_Model.fit(x=[tra_data_sli,tra_decod],y=tra_lab, epochs=MAX_EPOCH, batch_size=BATCH_SIZE,validation_data=([val_data_sli,val_decod], val_lab), verbose=1,callbacks=[model_chk])"
   ]
  },
  {
   "cell_type": "code",
   "execution_count": 551,
   "id": "5f9d8c78",
   "metadata": {},
   "outputs": [
    {
     "name": "stdout",
     "output_type": "stream",
     "text": [
      "There are 0 NA values in the dataframe\n",
      "5/5 [==============================] - 10s 40ms/step\n",
      "There are 0 NA values in the dataframe\n",
      "5/5 [==============================] - 0s 37ms/step\n",
      "There are 0 NA values in the dataframe\n",
      "5/5 [==============================] - 0s 37ms/step\n",
      "There are 0 NA values in the dataframe\n",
      "5/5 [==============================] - 0s 37ms/step\n",
      "There are 0 NA values in the dataframe\n",
      "5/5 [==============================] - 0s 41ms/step\n",
      "There are 0 NA values in the dataframe\n",
      "5/5 [==============================] - 0s 42ms/step\n",
      "There are 0 NA values in the dataframe\n",
      "5/5 [==============================] - 0s 37ms/step\n",
      "There are 0 NA values in the dataframe\n",
      "5/5 [==============================] - 0s 37ms/step\n",
      "There are 0 NA values in the dataframe\n",
      "5/5 [==============================] - 0s 37ms/step\n",
      "There are 0 NA values in the dataframe\n",
      "5/5 [==============================] - 0s 37ms/step\n",
      "There are 0 NA values in the dataframe\n",
      "5/5 [==============================] - 0s 37ms/step\n",
      "There are 0 NA values in the dataframe\n",
      "5/5 [==============================] - 0s 41ms/step\n",
      "There are 0 NA values in the dataframe\n",
      "5/5 [==============================] - 0s 41ms/step\n",
      "There are 0 NA values in the dataframe\n",
      "5/5 [==============================] - 0s 39ms/step\n",
      "There are 0 NA values in the dataframe\n",
      "5/5 [==============================] - 0s 41ms/step\n",
      "There are 0 NA values in the dataframe\n",
      "5/5 [==============================] - 0s 41ms/step\n",
      "There are 0 NA values in the dataframe\n",
      "5/5 [==============================] - 0s 41ms/step\n",
      "There are 0 NA values in the dataframe\n",
      "5/5 [==============================] - 0s 41ms/step\n",
      "There are 0 NA values in the dataframe\n",
      "5/5 [==============================] - 0s 41ms/step\n",
      "There are 0 NA values in the dataframe\n",
      "5/5 [==============================] - 0s 40ms/step\n",
      "There are 0 NA values in the dataframe\n",
      "5/5 [==============================] - 0s 38ms/step\n",
      "There are 0 NA values in the dataframe\n",
      "5/5 [==============================] - 0s 36ms/step\n",
      "There are 0 NA values in the dataframe\n",
      "5/5 [==============================] - 0s 37ms/step\n",
      "There are 0 NA values in the dataframe\n",
      "5/5 [==============================] - 0s 40ms/step\n",
      "There are 0 NA values in the dataframe\n",
      "5/5 [==============================] - 0s 39ms/step\n",
      "There are 0 NA values in the dataframe\n",
      "5/5 [==============================] - 0s 41ms/step\n",
      "There are 0 NA values in the dataframe\n",
      "5/5 [==============================] - 0s 43ms/step\n",
      "There are 0 NA values in the dataframe\n",
      "5/5 [==============================] - 0s 36ms/step\n",
      "There are 0 NA values in the dataframe\n",
      "5/5 [==============================] - 0s 41ms/step\n",
      "There are 0 NA values in the dataframe\n",
      "5/5 [==============================] - 0s 40ms/step\n",
      "There are 0 NA values in the dataframe\n",
      "5/5 [==============================] - 0s 43ms/step\n",
      "There are 0 NA values in the dataframe\n",
      "5/5 [==============================] - 0s 37ms/step\n",
      "There are 0 NA values in the dataframe\n",
      "5/5 [==============================] - 0s 40ms/step\n",
      "There are 0 NA values in the dataframe\n",
      "5/5 [==============================] - 0s 42ms/step\n",
      "There are 0 NA values in the dataframe\n",
      "5/5 [==============================] - 0s 36ms/step\n",
      "There are 0 NA values in the dataframe\n",
      "5/5 [==============================] - 0s 38ms/step\n",
      "There are 0 NA values in the dataframe\n",
      "5/5 [==============================] - 0s 39ms/step\n",
      "There are 0 NA values in the dataframe\n",
      "5/5 [==============================] - 0s 37ms/step\n",
      "There are 0 NA values in the dataframe\n",
      "5/5 [==============================] - 0s 38ms/step\n",
      "There are 0 NA values in the dataframe\n",
      "5/5 [==============================] - 0s 37ms/step\n",
      "There are 0 NA values in the dataframe\n",
      "5/5 [==============================] - 0s 37ms/step\n",
      "There are 0 NA values in the dataframe\n",
      "5/5 [==============================] - 0s 38ms/step\n",
      "There are 0 NA values in the dataframe\n",
      "5/5 [==============================] - 0s 42ms/step\n",
      "There are 0 NA values in the dataframe\n",
      "5/5 [==============================] - 0s 38ms/step\n",
      "There are 0 NA values in the dataframe\n",
      "5/5 [==============================] - 0s 37ms/step\n",
      "There are 0 NA values in the dataframe\n",
      "5/5 [==============================] - 0s 40ms/step\n",
      "There are 0 NA values in the dataframe\n",
      "5/5 [==============================] - 0s 42ms/step\n",
      "There are 0 NA values in the dataframe\n",
      "5/5 [==============================] - 0s 40ms/step\n",
      "There are 0 NA values in the dataframe\n",
      "5/5 [==============================] - 0s 44ms/step\n",
      "There are 0 NA values in the dataframe\n",
      "5/5 [==============================] - 0s 40ms/step\n",
      "There are 0 NA values in the dataframe\n",
      "5/5 [==============================] - 0s 36ms/step\n",
      "There are 0 NA values in the dataframe\n",
      "5/5 [==============================] - 0s 37ms/step\n",
      "There are 0 NA values in the dataframe\n",
      "5/5 [==============================] - 0s 42ms/step\n",
      "There are 0 NA values in the dataframe\n",
      "5/5 [==============================] - 0s 36ms/step\n",
      "There are 0 NA values in the dataframe\n",
      "5/5 [==============================] - 0s 41ms/step\n",
      "There are 0 NA values in the dataframe\n",
      "5/5 [==============================] - 0s 43ms/step\n",
      "There are 0 NA values in the dataframe\n",
      "5/5 [==============================] - 0s 38ms/step\n",
      "There are 0 NA values in the dataframe\n",
      "5/5 [==============================] - 0s 36ms/step\n",
      "There are 0 NA values in the dataframe\n",
      "5/5 [==============================] - 0s 42ms/step\n",
      "There are 0 NA values in the dataframe\n",
      "5/5 [==============================] - 0s 42ms/step\n",
      "There are 0 NA values in the dataframe\n",
      "5/5 [==============================] - 0s 37ms/step\n",
      "There are 0 NA values in the dataframe\n",
      "5/5 [==============================] - 0s 42ms/step\n",
      "There are 0 NA values in the dataframe\n",
      "5/5 [==============================] - 0s 36ms/step\n",
      "There are 0 NA values in the dataframe\n",
      "5/5 [==============================] - 0s 41ms/step\n",
      "There are 0 NA values in the dataframe\n",
      "5/5 [==============================] - 0s 40ms/step\n",
      "There are 0 NA values in the dataframe\n",
      "5/5 [==============================] - 0s 36ms/step\n",
      "There are 0 NA values in the dataframe\n",
      "5/5 [==============================] - 0s 42ms/step\n",
      "There are 0 NA values in the dataframe\n",
      "5/5 [==============================] - 0s 41ms/step\n",
      "There are 0 NA values in the dataframe\n",
      "5/5 [==============================] - 0s 41ms/step\n",
      "There are 0 NA values in the dataframe\n",
      "5/5 [==============================] - 0s 42ms/step\n",
      "There are 0 NA values in the dataframe\n",
      "5/5 [==============================] - 0s 41ms/step\n",
      "There are 0 NA values in the dataframe\n",
      "5/5 [==============================] - 0s 36ms/step\n",
      "There are 0 NA values in the dataframe\n",
      "5/5 [==============================] - 0s 37ms/step\n",
      "There are 0 NA values in the dataframe\n",
      "5/5 [==============================] - 0s 36ms/step\n",
      "There are 0 NA values in the dataframe\n",
      "5/5 [==============================] - 0s 42ms/step\n",
      "There are 0 NA values in the dataframe\n",
      "5/5 [==============================] - 0s 41ms/step\n",
      "There are 0 NA values in the dataframe\n",
      "5/5 [==============================] - 0s 36ms/step\n",
      "There are 0 NA values in the dataframe\n",
      "5/5 [==============================] - 0s 41ms/step\n",
      "There are 0 NA values in the dataframe\n",
      "5/5 [==============================] - 0s 38ms/step\n",
      "There are 0 NA values in the dataframe\n",
      "5/5 [==============================] - 0s 42ms/step\n",
      "There are 0 NA values in the dataframe\n",
      "5/5 [==============================] - 0s 40ms/step\n",
      "There are 0 NA values in the dataframe\n",
      "5/5 [==============================] - 0s 40ms/step\n",
      "There are 0 NA values in the dataframe\n",
      "5/5 [==============================] - 0s 37ms/step\n",
      "There are 0 NA values in the dataframe\n",
      "5/5 [==============================] - 0s 42ms/step\n",
      "There are 0 NA values in the dataframe\n",
      "5/5 [==============================] - 0s 41ms/step\n",
      "There are 0 NA values in the dataframe\n",
      "5/5 [==============================] - 0s 40ms/step\n",
      "There are 0 NA values in the dataframe\n",
      "5/5 [==============================] - 0s 42ms/step\n",
      "There are 0 NA values in the dataframe\n",
      "5/5 [==============================] - 0s 36ms/step\n",
      "There are 0 NA values in the dataframe\n",
      "5/5 [==============================] - 0s 42ms/step\n",
      "There are 0 NA values in the dataframe\n",
      "5/5 [==============================] - 0s 41ms/step\n",
      "There are 0 NA values in the dataframe\n"
     ]
    },
    {
     "name": "stdout",
     "output_type": "stream",
     "text": [
      "5/5 [==============================] - 0s 40ms/step\n",
      "There are 0 NA values in the dataframe\n",
      "5/5 [==============================] - 0s 43ms/step\n",
      "There are 0 NA values in the dataframe\n",
      "5/5 [==============================] - 0s 45ms/step\n",
      "There are 0 NA values in the dataframe\n",
      "5/5 [==============================] - 0s 37ms/step\n",
      "There are 0 NA values in the dataframe\n",
      "5/5 [==============================] - 0s 36ms/step\n",
      "There are 0 NA values in the dataframe\n",
      "5/5 [==============================] - 0s 40ms/step\n",
      "There are 0 NA values in the dataframe\n",
      "5/5 [==============================] - 0s 38ms/step\n",
      "There are 0 NA values in the dataframe\n",
      "5/5 [==============================] - 0s 36ms/step\n",
      "There are 0 NA values in the dataframe\n",
      "5/5 [==============================] - 0s 40ms/step\n",
      "There are 0 NA values in the dataframe\n",
      "5/5 [==============================] - 0s 42ms/step\n"
     ]
    }
   ],
   "source": [
    "\n",
    "My_Model = tf.keras.models.load_model('8_day_Seq2Seq GRU FC Layer Implementation Old University Data Using Std Scaler_no_attention.h5')\n",
    "robu_df = pd.DataFrame(columns=['MSE','MAE','MAPE','R2'])\n",
    "for tester in range(100):\n",
    "    tes_data = data.iloc[val_id:,:]\n",
    "    test_data = pre_process(tes_data)\n",
    "    tes_data_sli,tes_lab,test_scaler,tes_stan,tes_decod = rolling_window(test_data,input_size=TRAIN_STEPS,output_size=24,offset=24,test=False)\n",
    "    predict = My_Model.predict(x=[tes_data_sli,tes_decod])\n",
    "    prediction = test_scaler.inverse_transform(np.repeat(predict.flatten().reshape(-1,1),10,axis=1))\n",
    "    grou_tru = test_scaler.inverse_transform(np.repeat(tes_lab.flatten().reshape(-1,1),10,axis=1))\n",
    "    metric_df = pd.DataFrame([[mean_squared_error(grou_tru[:,0],prediction[:,0])\n",
    "                              ,mean_absolute_error(grou_tru[:,0],prediction[:,0])\n",
    "                              ,mean_absolute_percentage_error(grou_tru[:,0],prediction[:,0])\n",
    "                              ,r2_score(grou_tru[:,0],prediction[:,0])]]\n",
    "                              ,columns=['MSE','MAE','MAPE','R2']\n",
    "                            )\n",
    "    robu_df = pd.concat([robu_df,metric_df],axis=0)\n",
    "#    print(\"The mean squared error is \", mean_squared_error(grou_tru[:,0],prediction[:,0]))\n",
    "#    print(\"The mean abolsute error is \", mean_absolute_error(grou_tru[:,0],prediction[:,0]))\n",
    "#    print(\"The mean absolute percentage error is \",mean_absolute_percentage_error(grou_tru[:,0],prediction[:,0]))\n",
    "#    print(\"The R2 Score is \",r2_score(grou_tru[:,0],prediction[:,0]))"
   ]
  },
  {
   "cell_type": "code",
   "execution_count": 552,
   "id": "e0f15dd8",
   "metadata": {},
   "outputs": [],
   "source": [
    "#lr_schedule = tf.keras.optimizers.schedules.ExponentialDecay(\n",
    "#    0.1,\n",
    "#    decay_steps=1000,\n",
    "#    decay_rate=0.5)\n",
    "\n",
    "#adam = tf.keras.optimizers.Adam(learning_rate=0.0001, beta_1=0.9, beta_2=0.999, amsgrad=False)\n",
    "\n",
    "#ear_stop = tf.keras.callbacks.EarlyStopping(\n",
    "#            monitor=\"val_loss\",mode='min',min_delta=5e-4,patience=20,verbose=1\n",
    "#)\n",
    "\n",
    "#model_chk = tf.keras.callbacks.ModelCheckpoint(\n",
    "#            'best_model_seq2seq_MuntiVariate_Standard.h5',monitor=\"val_loss\",mode='min',verbose=1,save_best_only=True\n",
    "#)\n",
    "robu_df.to_csv('real.csv')"
   ]
  },
  {
   "cell_type": "code",
   "execution_count": 515,
   "id": "8a68676e",
   "metadata": {},
   "outputs": [],
   "source": [
    "#history = seq_2_seq_model.fit(x=[tra_data_sli,tra_decod],y=tra_lab, epochs=MAX_EPOCH, batch_size=BATCH_SIZE,validation_data=([val_data_sli,val_decod], val_lab), verbose=1,callbacks=[model_chk,ear_stop])\n"
   ]
  },
  {
   "cell_type": "code",
   "execution_count": 553,
   "id": "558134de",
   "metadata": {},
   "outputs": [
    {
     "data": {
      "text/html": [
       "<div>\n",
       "<style scoped>\n",
       "    .dataframe tbody tr th:only-of-type {\n",
       "        vertical-align: middle;\n",
       "    }\n",
       "\n",
       "    .dataframe tbody tr th {\n",
       "        vertical-align: top;\n",
       "    }\n",
       "\n",
       "    .dataframe thead th {\n",
       "        text-align: right;\n",
       "    }\n",
       "</style>\n",
       "<table border=\"1\" class=\"dataframe\">\n",
       "  <thead>\n",
       "    <tr style=\"text-align: right;\">\n",
       "      <th></th>\n",
       "      <th>MSE</th>\n",
       "      <th>MAE</th>\n",
       "      <th>MAPE</th>\n",
       "      <th>R2</th>\n",
       "    </tr>\n",
       "  </thead>\n",
       "  <tbody>\n",
       "    <tr>\n",
       "      <th>0</th>\n",
       "      <td>286907.701736</td>\n",
       "      <td>412.987219</td>\n",
       "      <td>0.03489</td>\n",
       "      <td>0.812909</td>\n",
       "    </tr>\n",
       "    <tr>\n",
       "      <th>0</th>\n",
       "      <td>286907.701736</td>\n",
       "      <td>412.987219</td>\n",
       "      <td>0.03489</td>\n",
       "      <td>0.812909</td>\n",
       "    </tr>\n",
       "    <tr>\n",
       "      <th>0</th>\n",
       "      <td>286907.701736</td>\n",
       "      <td>412.987219</td>\n",
       "      <td>0.03489</td>\n",
       "      <td>0.812909</td>\n",
       "    </tr>\n",
       "    <tr>\n",
       "      <th>0</th>\n",
       "      <td>286907.701736</td>\n",
       "      <td>412.987219</td>\n",
       "      <td>0.03489</td>\n",
       "      <td>0.812909</td>\n",
       "    </tr>\n",
       "    <tr>\n",
       "      <th>0</th>\n",
       "      <td>286907.701736</td>\n",
       "      <td>412.987219</td>\n",
       "      <td>0.03489</td>\n",
       "      <td>0.812909</td>\n",
       "    </tr>\n",
       "    <tr>\n",
       "      <th>...</th>\n",
       "      <td>...</td>\n",
       "      <td>...</td>\n",
       "      <td>...</td>\n",
       "      <td>...</td>\n",
       "    </tr>\n",
       "    <tr>\n",
       "      <th>0</th>\n",
       "      <td>286907.701736</td>\n",
       "      <td>412.987219</td>\n",
       "      <td>0.03489</td>\n",
       "      <td>0.812909</td>\n",
       "    </tr>\n",
       "    <tr>\n",
       "      <th>0</th>\n",
       "      <td>286907.701736</td>\n",
       "      <td>412.987219</td>\n",
       "      <td>0.03489</td>\n",
       "      <td>0.812909</td>\n",
       "    </tr>\n",
       "    <tr>\n",
       "      <th>0</th>\n",
       "      <td>286907.701736</td>\n",
       "      <td>412.987219</td>\n",
       "      <td>0.03489</td>\n",
       "      <td>0.812909</td>\n",
       "    </tr>\n",
       "    <tr>\n",
       "      <th>0</th>\n",
       "      <td>286907.701736</td>\n",
       "      <td>412.987219</td>\n",
       "      <td>0.03489</td>\n",
       "      <td>0.812909</td>\n",
       "    </tr>\n",
       "    <tr>\n",
       "      <th>0</th>\n",
       "      <td>286907.701736</td>\n",
       "      <td>412.987219</td>\n",
       "      <td>0.03489</td>\n",
       "      <td>0.812909</td>\n",
       "    </tr>\n",
       "  </tbody>\n",
       "</table>\n",
       "<p>100 rows × 4 columns</p>\n",
       "</div>"
      ],
      "text/plain": [
       "              MSE         MAE     MAPE        R2\n",
       "0   286907.701736  412.987219  0.03489  0.812909\n",
       "0   286907.701736  412.987219  0.03489  0.812909\n",
       "0   286907.701736  412.987219  0.03489  0.812909\n",
       "0   286907.701736  412.987219  0.03489  0.812909\n",
       "0   286907.701736  412.987219  0.03489  0.812909\n",
       "..            ...         ...      ...       ...\n",
       "0   286907.701736  412.987219  0.03489  0.812909\n",
       "0   286907.701736  412.987219  0.03489  0.812909\n",
       "0   286907.701736  412.987219  0.03489  0.812909\n",
       "0   286907.701736  412.987219  0.03489  0.812909\n",
       "0   286907.701736  412.987219  0.03489  0.812909\n",
       "\n",
       "[100 rows x 4 columns]"
      ]
     },
     "execution_count": 553,
     "metadata": {},
     "output_type": "execute_result"
    }
   ],
   "source": [
    "robu_df"
   ]
  },
  {
   "cell_type": "code",
   "execution_count": 516,
   "id": "da7a7357",
   "metadata": {},
   "outputs": [],
   "source": [
    "#tes_data_sli.\n",
    "#np.save(test_data_sli_std_scaler)"
   ]
  },
  {
   "cell_type": "code",
   "execution_count": 517,
   "id": "253991b6",
   "metadata": {},
   "outputs": [],
   "source": [
    "#predict = seq_2_seq_model.predict(x=[tes_data_sli,tes_decod])"
   ]
  },
  {
   "cell_type": "code",
   "execution_count": null,
   "id": "bdb0dc64",
   "metadata": {},
   "outputs": [],
   "source": []
  },
  {
   "cell_type": "code",
   "execution_count": null,
   "id": "0cc8cc1d",
   "metadata": {},
   "outputs": [],
   "source": []
  },
  {
   "cell_type": "code",
   "execution_count": null,
   "id": "a7982e4b",
   "metadata": {},
   "outputs": [],
   "source": []
  },
  {
   "cell_type": "code",
   "execution_count": null,
   "id": "cfbb0fcb",
   "metadata": {},
   "outputs": [],
   "source": []
  },
  {
   "cell_type": "code",
   "execution_count": null,
   "id": "4358618c",
   "metadata": {},
   "outputs": [],
   "source": []
  },
  {
   "cell_type": "code",
   "execution_count": null,
   "id": "6cf30e11",
   "metadata": {},
   "outputs": [],
   "source": []
  },
  {
   "cell_type": "code",
   "execution_count": null,
   "id": "bccf37b2",
   "metadata": {},
   "outputs": [],
   "source": []
  },
  {
   "cell_type": "code",
   "execution_count": null,
   "id": "1f6d7f77",
   "metadata": {},
   "outputs": [],
   "source": []
  },
  {
   "cell_type": "code",
   "execution_count": null,
   "id": "97385cbf",
   "metadata": {},
   "outputs": [],
   "source": []
  },
  {
   "cell_type": "code",
   "execution_count": null,
   "id": "f954ceb0",
   "metadata": {},
   "outputs": [],
   "source": []
  },
  {
   "cell_type": "code",
   "execution_count": null,
   "id": "4f26134c",
   "metadata": {},
   "outputs": [],
   "source": []
  },
  {
   "cell_type": "code",
   "execution_count": null,
   "id": "6000e60c",
   "metadata": {},
   "outputs": [],
   "source": []
  },
  {
   "cell_type": "code",
   "execution_count": null,
   "id": "3228e8be",
   "metadata": {},
   "outputs": [],
   "source": []
  },
  {
   "cell_type": "code",
   "execution_count": null,
   "id": "b6562dbf",
   "metadata": {},
   "outputs": [],
   "source": []
  },
  {
   "cell_type": "code",
   "execution_count": null,
   "id": "0c60987e",
   "metadata": {},
   "outputs": [],
   "source": []
  },
  {
   "cell_type": "code",
   "execution_count": null,
   "id": "3a93a09a",
   "metadata": {},
   "outputs": [],
   "source": []
  },
  {
   "cell_type": "code",
   "execution_count": null,
   "id": "5341bd07",
   "metadata": {},
   "outputs": [],
   "source": []
  },
  {
   "cell_type": "code",
   "execution_count": null,
   "id": "7e3f63d2",
   "metadata": {},
   "outputs": [],
   "source": []
  },
  {
   "cell_type": "code",
   "execution_count": null,
   "id": "834d2635",
   "metadata": {},
   "outputs": [],
   "source": []
  },
  {
   "cell_type": "code",
   "execution_count": null,
   "id": "94ecd32a",
   "metadata": {},
   "outputs": [],
   "source": []
  },
  {
   "cell_type": "code",
   "execution_count": null,
   "id": "a970f5bc",
   "metadata": {},
   "outputs": [],
   "source": []
  },
  {
   "cell_type": "code",
   "execution_count": null,
   "id": "6e2568d9",
   "metadata": {},
   "outputs": [],
   "source": []
  },
  {
   "cell_type": "code",
   "execution_count": null,
   "id": "63f77d56",
   "metadata": {},
   "outputs": [],
   "source": []
  },
  {
   "cell_type": "code",
   "execution_count": null,
   "id": "6839d31b",
   "metadata": {},
   "outputs": [],
   "source": []
  },
  {
   "cell_type": "code",
   "execution_count": null,
   "id": "9222dec0",
   "metadata": {},
   "outputs": [],
   "source": []
  },
  {
   "cell_type": "code",
   "execution_count": null,
   "id": "705c5509",
   "metadata": {},
   "outputs": [],
   "source": []
  },
  {
   "cell_type": "code",
   "execution_count": null,
   "id": "a576c70e",
   "metadata": {},
   "outputs": [],
   "source": []
  },
  {
   "cell_type": "code",
   "execution_count": null,
   "id": "109a5830",
   "metadata": {},
   "outputs": [],
   "source": []
  },
  {
   "cell_type": "code",
   "execution_count": null,
   "id": "23ee6a51",
   "metadata": {},
   "outputs": [],
   "source": []
  },
  {
   "cell_type": "code",
   "execution_count": null,
   "id": "8bf19db6",
   "metadata": {},
   "outputs": [],
   "source": []
  },
  {
   "cell_type": "code",
   "execution_count": null,
   "id": "a69a0aa3",
   "metadata": {},
   "outputs": [],
   "source": []
  },
  {
   "cell_type": "code",
   "execution_count": null,
   "id": "1c31b703",
   "metadata": {},
   "outputs": [],
   "source": []
  },
  {
   "cell_type": "code",
   "execution_count": null,
   "id": "a28b21b2",
   "metadata": {},
   "outputs": [],
   "source": []
  },
  {
   "cell_type": "code",
   "execution_count": null,
   "id": "36bef3b8",
   "metadata": {},
   "outputs": [],
   "source": []
  },
  {
   "cell_type": "code",
   "execution_count": null,
   "id": "fc2dc972",
   "metadata": {},
   "outputs": [],
   "source": []
  },
  {
   "cell_type": "code",
   "execution_count": null,
   "id": "21fdbf4f",
   "metadata": {},
   "outputs": [],
   "source": []
  },
  {
   "cell_type": "code",
   "execution_count": null,
   "id": "10aad762",
   "metadata": {},
   "outputs": [],
   "source": []
  },
  {
   "cell_type": "code",
   "execution_count": null,
   "id": "7b67a4b9",
   "metadata": {},
   "outputs": [],
   "source": []
  },
  {
   "cell_type": "code",
   "execution_count": null,
   "id": "4b59ac38",
   "metadata": {},
   "outputs": [],
   "source": []
  },
  {
   "cell_type": "code",
   "execution_count": null,
   "id": "4f4b31d5",
   "metadata": {},
   "outputs": [],
   "source": []
  },
  {
   "cell_type": "code",
   "execution_count": null,
   "id": "e5a74901",
   "metadata": {},
   "outputs": [],
   "source": []
  },
  {
   "cell_type": "code",
   "execution_count": null,
   "id": "471a2feb",
   "metadata": {},
   "outputs": [],
   "source": []
  },
  {
   "cell_type": "code",
   "execution_count": null,
   "id": "89383ba8",
   "metadata": {},
   "outputs": [],
   "source": []
  },
  {
   "cell_type": "code",
   "execution_count": null,
   "id": "3aa4603c",
   "metadata": {},
   "outputs": [],
   "source": []
  },
  {
   "cell_type": "code",
   "execution_count": null,
   "id": "fd7946cc",
   "metadata": {},
   "outputs": [],
   "source": []
  },
  {
   "cell_type": "code",
   "execution_count": null,
   "id": "6941e7db",
   "metadata": {},
   "outputs": [],
   "source": []
  },
  {
   "cell_type": "code",
   "execution_count": null,
   "id": "59d8ece5",
   "metadata": {},
   "outputs": [],
   "source": []
  },
  {
   "cell_type": "code",
   "execution_count": null,
   "id": "aff0292e",
   "metadata": {},
   "outputs": [],
   "source": []
  },
  {
   "cell_type": "code",
   "execution_count": null,
   "id": "50ac348c",
   "metadata": {},
   "outputs": [],
   "source": []
  },
  {
   "cell_type": "code",
   "execution_count": null,
   "id": "90a5b268",
   "metadata": {},
   "outputs": [],
   "source": []
  },
  {
   "cell_type": "code",
   "execution_count": null,
   "id": "6c1548d4",
   "metadata": {},
   "outputs": [],
   "source": []
  },
  {
   "cell_type": "code",
   "execution_count": null,
   "id": "00acc11d",
   "metadata": {},
   "outputs": [],
   "source": []
  },
  {
   "cell_type": "code",
   "execution_count": null,
   "id": "79886eee",
   "metadata": {},
   "outputs": [],
   "source": []
  },
  {
   "cell_type": "code",
   "execution_count": null,
   "id": "4c659d77",
   "metadata": {},
   "outputs": [],
   "source": []
  },
  {
   "cell_type": "code",
   "execution_count": null,
   "id": "7dfb425a",
   "metadata": {},
   "outputs": [],
   "source": []
  },
  {
   "cell_type": "code",
   "execution_count": null,
   "id": "be228e39",
   "metadata": {},
   "outputs": [],
   "source": []
  },
  {
   "cell_type": "code",
   "execution_count": null,
   "id": "4df914a9",
   "metadata": {},
   "outputs": [],
   "source": []
  },
  {
   "cell_type": "code",
   "execution_count": null,
   "id": "b7f06a79",
   "metadata": {},
   "outputs": [],
   "source": []
  },
  {
   "cell_type": "code",
   "execution_count": null,
   "id": "3c989f37",
   "metadata": {},
   "outputs": [],
   "source": []
  },
  {
   "cell_type": "code",
   "execution_count": null,
   "id": "449ddb6b",
   "metadata": {},
   "outputs": [],
   "source": []
  },
  {
   "cell_type": "code",
   "execution_count": null,
   "id": "6384a6e0",
   "metadata": {},
   "outputs": [],
   "source": []
  },
  {
   "cell_type": "code",
   "execution_count": null,
   "id": "44960847",
   "metadata": {},
   "outputs": [],
   "source": []
  },
  {
   "cell_type": "code",
   "execution_count": null,
   "id": "b33c06c3",
   "metadata": {},
   "outputs": [],
   "source": []
  },
  {
   "cell_type": "code",
   "execution_count": null,
   "id": "567a935f",
   "metadata": {},
   "outputs": [],
   "source": []
  },
  {
   "cell_type": "code",
   "execution_count": null,
   "id": "46b8252f",
   "metadata": {},
   "outputs": [],
   "source": []
  },
  {
   "cell_type": "code",
   "execution_count": null,
   "id": "cde89fd8",
   "metadata": {},
   "outputs": [],
   "source": []
  },
  {
   "cell_type": "code",
   "execution_count": null,
   "id": "4c417e16",
   "metadata": {},
   "outputs": [],
   "source": []
  },
  {
   "cell_type": "code",
   "execution_count": null,
   "id": "6af0e16f",
   "metadata": {},
   "outputs": [],
   "source": []
  },
  {
   "cell_type": "code",
   "execution_count": null,
   "id": "9a416d2f",
   "metadata": {},
   "outputs": [],
   "source": []
  },
  {
   "cell_type": "code",
   "execution_count": null,
   "id": "4bdb67a6",
   "metadata": {},
   "outputs": [],
   "source": []
  },
  {
   "cell_type": "code",
   "execution_count": null,
   "id": "b7383c9e",
   "metadata": {},
   "outputs": [],
   "source": []
  },
  {
   "cell_type": "code",
   "execution_count": null,
   "id": "59dbf566",
   "metadata": {},
   "outputs": [],
   "source": []
  },
  {
   "cell_type": "code",
   "execution_count": null,
   "id": "b85edb5b",
   "metadata": {},
   "outputs": [],
   "source": []
  },
  {
   "cell_type": "code",
   "execution_count": null,
   "id": "55016b22",
   "metadata": {},
   "outputs": [],
   "source": []
  },
  {
   "cell_type": "code",
   "execution_count": null,
   "id": "e12e5643",
   "metadata": {},
   "outputs": [],
   "source": []
  },
  {
   "cell_type": "code",
   "execution_count": null,
   "id": "e4172272",
   "metadata": {},
   "outputs": [],
   "source": []
  },
  {
   "cell_type": "code",
   "execution_count": null,
   "id": "bc41cf17",
   "metadata": {},
   "outputs": [],
   "source": []
  },
  {
   "cell_type": "code",
   "execution_count": null,
   "id": "4b24586c",
   "metadata": {},
   "outputs": [],
   "source": []
  }
 ],
 "metadata": {
  "kernelspec": {
   "display_name": "Python 3 (ipykernel)",
   "language": "python",
   "name": "python3"
  },
  "language_info": {
   "codemirror_mode": {
    "name": "ipython",
    "version": 3
   },
   "file_extension": ".py",
   "mimetype": "text/x-python",
   "name": "python",
   "nbconvert_exporter": "python",
   "pygments_lexer": "ipython3",
   "version": "3.9.12"
  }
 },
 "nbformat": 4,
 "nbformat_minor": 5
}
